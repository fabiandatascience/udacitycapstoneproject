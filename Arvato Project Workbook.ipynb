{
 "cells": [
  {
   "cell_type": "markdown",
   "metadata": {},
   "source": [
    "# Capstone Project: Create a Customer Segmentation Report for Arvato Financial Services\n",
    "\n",
    "In this project, you will analyze demographics data for customers of a mail-order sales company in Germany, comparing it against demographics information for the general population. You'll use unsupervised learning techniques to perform customer segmentation, identifying the parts of the population that best describe the core customer base of the company. Then, you'll apply what you've learned on a third dataset with demographics information for targets of a marketing campaign for the company, and use a model to predict which individuals are most likely to convert into becoming customers for the company. The data that you will use has been provided by our partners at Bertelsmann Arvato Analytics, and represents a real-life data science task.\n",
    "\n",
    "The versions of those two datasets used in this project will include many more features and has not been pre-cleaned. You are also free to choose whatever approach you'd like to analyzing the data rather than follow pre-determined steps. In your work on this project, make sure that you carefully document your steps and decisions, since your main deliverable for this project will be a blog post reporting your findings."
   ]
  },
  {
   "cell_type": "code",
   "execution_count": null,
   "metadata": {},
   "outputs": [],
   "source": [
    "# Check the present working directory\n",
    "!pwd"
   ]
  },
  {
   "cell_type": "markdown",
   "metadata": {},
   "source": [
    "### Download the data\n",
    "If you do not have the required **data/** directory in your workspace, follow the instructions below. Use either one of the methods below. \n",
    "\n",
    "**Method 1** <br/>\n",
    "You must [download this dataset](https://video.udacity-data.com/topher/2024/August/66b9ba05_arvato_data.tar/arvato_data.tar.gz) from the Downloads section in the classroom, and upload it into the workspace. After you upload the tar file to the present working  directory, **/workspace/cd1971 Data Scientist Capstone/Bertelsmann_Arvato Project Workspace/**,  in the Jupyter server, you can open a terminal and the run the following command to extract the dataset from the compressed file. \n",
    "```bash\n",
    "!tar -xzvf arvato_data.tar.gz\n",
    "```\n",
    "This command will extract all the contents of arvato_data.tar.gz into the current directory. \n",
    "\n",
    "**Method 2** <br/>\n",
    "Execute the Python code below to download the dataset. \n"
   ]
  },
  {
   "cell_type": "markdown",
   "metadata": {},
   "source": [
    "import requests\n",
    "import tarfile\n",
    "import os\n",
    "\n",
    "\n",
    "def download_and_extract(url, extract_to='.'):\n",
    "    \"\"\"\n",
    "    Downloads a tar.gz file from a URL and extracts it to a directory.\n",
    "    Args:\n",
    "    - url (str): URL of the tar.gz file to download.\n",
    "    - extract_to (str): Directory path to extract the contents of the tar.gz file.\n",
    "    \"\"\"\n",
    "    # Get the filename from the URL\n",
    "    filename = url.split('/')[-1]\n",
    "\n",
    "    # Download the file\n",
    "    print(\"Downloading the file...\")\n",
    "    response = requests.get(url, stream=True)\n",
    "    if response.status_code == 200:\n",
    "        with open(filename, 'wb') as file:\n",
    "            file.write(response.raw.read())\n",
    "        print(\"Download completed.\")\n",
    "    else:\n",
    "        print(\"Failed to download the file.\")\n",
    "        return\n",
    "\n",
    "    # Extract the tar.gz file\n",
    "    print(\"Extracting the file...\")\n",
    "    try:\n",
    "        with tarfile.open(filename, 'r:gz') as tar:\n",
    "            tar.extractall(path=extract_to)\n",
    "        print(\"Extraction completed.\")\n",
    "    except Exception as e:\n",
    "        print(f\"Failed to extract the file: {e}\")\n",
    "    finally:\n",
    "        # Optionally remove the tar.gz file after extraction\n",
    "        os.remove(filename)\n",
    "        print(\"Downloaded tar.gz file removed.\")\n",
    "\n",
    "# URL of the tar.gz file\n",
    "url = 'https://video.udacity-data.com/topher/2024/August/66b9ba05_arvato_data.tar/arvato_data.tar.gz'\n",
    "\n",
    "# Call the function with the URL\n",
    "download_and_extract(url)\n",
    "\n"
   ]
  },
  {
   "cell_type": "markdown",
   "metadata": {},
   "source": [
    "\n",
    "### Important Note\n",
    ">Delete the **data/** folder and the downloaded tar file, before you submit your code. The current workspace cannot save the files beyond 1GB of space in total. \n",
    "\n",
    "\n",
    "### Import the Packages"
   ]
  },
  {
   "cell_type": "code",
   "execution_count": 12,
   "metadata": {},
   "outputs": [],
   "source": [
    "# import libraries here; add more as necessary\n",
    "import numpy as np\n",
    "import pandas as pd\n",
    "import matplotlib.pyplot as plt\n",
    "import seaborn as sns\n",
    "import re\n",
    "# magic word for producing visualizations in notebook\n",
    "%matplotlib inline"
   ]
  },
  {
   "cell_type": "markdown",
   "metadata": {},
   "source": [
    "## Part 0: Get to Know the Data\n",
    "\n",
    "There are four data files associated with this project:\n",
    "\n",
    "- `Udacity_AZDIAS_052018.csv`: Demographics data for the general population of Germany; 891 211 persons (rows) x 366 features (columns).\n",
    "- `Udacity_CUSTOMERS_052018.csv`: Demographics data for customers of a mail-order company; 191 652 persons (rows) x 369 features (columns).\n",
    "- `Udacity_MAILOUT_052018_TRAIN.csv`: Demographics data for individuals who were targets of a marketing campaign; 42 982 persons (rows) x 367 (columns).\n",
    "- `Udacity_MAILOUT_052018_TEST.csv`: Demographics data for individuals who were targets of a marketing campaign; 42 833 persons (rows) x 366 (columns).\n",
    "\n",
    "Each row of the demographics files represents a single person, but also includes information outside of individuals, including information about their household, building, and neighborhood. Use the information from the first two files to figure out how customers (\"CUSTOMERS\") are similar to or differ from the general population at large (\"AZDIAS\"), then use your analysis to make predictions on the other two files (\"MAILOUT\"), predicting which recipients are most likely to become a customer for the mail-order company.\n",
    "\n",
    "The \"CUSTOMERS\" file contains three extra columns ('CUSTOMER_GROUP', 'ONLINE_PURCHASE', and 'PRODUCT_GROUP'), which provide broad information about the customers depicted in the file. The original \"MAILOUT\" file included one additional column, \"RESPONSE\", which indicated whether or not each recipient became a customer of the company. For the \"TRAIN\" subset, this column has been retained, but in the \"TEST\" subset it has been removed; it is against that withheld column that your final predictions will be assessed in the Kaggle competition.\n",
    "\n",
    "Otherwise, all of the remaining columns are the same between the three data files. For more information about the columns depicted in the files, you can refer to two Excel spreadsheets provided in the workspace. [One of them](./DIAS Information Levels - Attributes 2017.xlsx) is a top-level list of attributes and descriptions, organized by informational category. [The other](./DIAS Attributes - Values 2017.xlsx) is a detailed mapping of data values for each feature in alphabetical order.\n",
    "\n",
    "In the below cell, we've provided some initial code to load in the first two datasets. Note for all of the `.csv` data files in this project that they're semicolon (`;`) delimited, so an additional argument in the [`read_csv()`](https://pandas.pydata.org/pandas-docs/stable/generated/pandas.read_csv.html) call has been included to read in the data properly. Also, considering the size of the datasets, it may take some time for them to load completely.\n",
    "\n",
    "You'll notice when the data is loaded in that a warning message will immediately pop up. Before you really start digging into the modeling and analysis, you're going to need to perform some cleaning. Take some time to browse the structure of the data and look over the informational spreadsheets to understand the data values. Make some decisions on which features to keep, which features to drop, and if any revisions need to be made on data formats. It'll be a good idea to create a function with pre-processing steps, since you'll need to clean all of the datasets before you work with them."
   ]
  },
  {
   "cell_type": "markdown",
   "metadata": {},
   "source": [
    ">Note: If you experience \"Kernel died\" issue while running the codeblock below, then load less number of rows from the .csv files."
   ]
  },
  {
   "cell_type": "code",
   "execution_count": 4,
   "metadata": {},
   "outputs": [
    {
     "name": "stderr",
     "output_type": "stream",
     "text": [
      "C:\\Users\\GSQOQWI\\AppData\\Local\\Temp\\1\\ipykernel_36100\\4183925281.py:2: DtypeWarning: Columns (18,19) have mixed types. Specify dtype option on import or set low_memory=False.\n",
      "  azdias = pd.read_csv('data/Udacity_AZDIAS_052018.csv', sep=';')\n",
      "C:\\Users\\GSQOQWI\\AppData\\Local\\Temp\\1\\ipykernel_36100\\4183925281.py:3: DtypeWarning: Columns (18,19) have mixed types. Specify dtype option on import or set low_memory=False.\n",
      "  customers = pd.read_csv('data/Udacity_CUSTOMERS_052018.csv', sep=';')\n"
     ]
    }
   ],
   "source": [
    "# load in the data\n",
    "azdias = pd.read_csv('data/Udacity_AZDIAS_052018.csv', sep=';')\n",
    "customers = pd.read_csv('data/Udacity_CUSTOMERS_052018.csv', sep=';')"
   ]
  },
  {
   "cell_type": "code",
   "execution_count": null,
   "metadata": {},
   "outputs": [],
   "source": [
    "# Be sure to add in a lot more cells (both markdown and code) to document your\n",
    "# approach and findings!"
   ]
  },
  {
   "cell_type": "code",
   "execution_count": 5,
   "metadata": {},
   "outputs": [
    {
     "name": "stdout",
     "output_type": "stream",
     "text": [
      "      LNR  AGER_TYP  AKT_DAT_KL  ALTER_HH  ALTER_KIND1  ALTER_KIND2  \\\n",
      "0  910215        -1         NaN       NaN          NaN          NaN   \n",
      "1  910220        -1         9.0       0.0          NaN          NaN   \n",
      "2  910225        -1         9.0      17.0          NaN          NaN   \n",
      "3  910226         2         1.0      13.0          NaN          NaN   \n",
      "4  910241        -1         1.0      20.0          NaN          NaN   \n",
      "\n",
      "   ALTER_KIND3  ALTER_KIND4  ALTERSKATEGORIE_FEIN  ANZ_HAUSHALTE_AKTIV  ...  \\\n",
      "0          NaN          NaN                   NaN                  NaN  ...   \n",
      "1          NaN          NaN                  21.0                 11.0  ...   \n",
      "2          NaN          NaN                  17.0                 10.0  ...   \n",
      "3          NaN          NaN                  13.0                  1.0  ...   \n",
      "4          NaN          NaN                  14.0                  3.0  ...   \n",
      "\n",
      "   VHN  VK_DHT4A  VK_DISTANZ  VK_ZG11  W_KEIT_KIND_HH  WOHNDAUER_2008  \\\n",
      "0  NaN       NaN         NaN      NaN             NaN             NaN   \n",
      "1  4.0       8.0        11.0     10.0             3.0             9.0   \n",
      "2  2.0       9.0         9.0      6.0             3.0             9.0   \n",
      "3  0.0       7.0        10.0     11.0             NaN             9.0   \n",
      "4  2.0       3.0         5.0      4.0             2.0             9.0   \n",
      "\n",
      "   WOHNLAGE ZABEOTYP ANREDE_KZ ALTERSKATEGORIE_GROB  \n",
      "0       NaN        3         1                    2  \n",
      "1       4.0        5         2                    1  \n",
      "2       2.0        5         2                    3  \n",
      "3       7.0        3         2                    4  \n",
      "4       3.0        4         1                    3  \n",
      "\n",
      "[5 rows x 366 columns]\n"
     ]
    }
   ],
   "source": [
    "print(azdias.head())"
   ]
  },
  {
   "cell_type": "code",
   "execution_count": 6,
   "metadata": {},
   "outputs": [
    {
     "name": "stdout",
     "output_type": "stream",
     "text": [
      "      LNR  AGER_TYP  AKT_DAT_KL  ALTER_HH  ALTER_KIND1  ALTER_KIND2  \\\n",
      "0    9626         2         1.0      10.0          NaN          NaN   \n",
      "1    9628        -1         9.0      11.0          NaN          NaN   \n",
      "2  143872        -1         1.0       6.0          NaN          NaN   \n",
      "3  143873         1         1.0       8.0          NaN          NaN   \n",
      "4  143874        -1         1.0      20.0          NaN          NaN   \n",
      "\n",
      "   ALTER_KIND3  ALTER_KIND4  ALTERSKATEGORIE_FEIN  ANZ_HAUSHALTE_AKTIV  ...  \\\n",
      "0          NaN          NaN                  10.0                  1.0  ...   \n",
      "1          NaN          NaN                   NaN                  NaN  ...   \n",
      "2          NaN          NaN                   0.0                  1.0  ...   \n",
      "3          NaN          NaN                   8.0                  0.0  ...   \n",
      "4          NaN          NaN                  14.0                  7.0  ...   \n",
      "\n",
      "   VK_ZG11  W_KEIT_KIND_HH  WOHNDAUER_2008  WOHNLAGE  ZABEOTYP  \\\n",
      "0      2.0             6.0             9.0       7.0         3   \n",
      "1      3.0             0.0             9.0       NaN         3   \n",
      "2     11.0             6.0             9.0       2.0         3   \n",
      "3      2.0             NaN             9.0       7.0         1   \n",
      "4      4.0             2.0             9.0       3.0         1   \n",
      "\n",
      "       PRODUCT_GROUP  CUSTOMER_GROUP ONLINE_PURCHASE ANREDE_KZ  \\\n",
      "0  COSMETIC_AND_FOOD     MULTI_BUYER               0         1   \n",
      "1               FOOD    SINGLE_BUYER               0         1   \n",
      "2  COSMETIC_AND_FOOD     MULTI_BUYER               0         2   \n",
      "3           COSMETIC     MULTI_BUYER               0         1   \n",
      "4               FOOD     MULTI_BUYER               0         1   \n",
      "\n",
      "  ALTERSKATEGORIE_GROB  \n",
      "0                    4  \n",
      "1                    4  \n",
      "2                    4  \n",
      "3                    4  \n",
      "4                    3  \n",
      "\n",
      "[5 rows x 369 columns]\n"
     ]
    }
   ],
   "source": [
    "print(customers.head())"
   ]
  },
  {
   "cell_type": "markdown",
   "metadata": {},
   "source": [
    "**Data Cleaning - Umcodieren Spezieller Werte in NaN**\n",
    "\n",
    "Schritt 1:\n",
    "\n",
    "Es gilt anhand des Attribut-Mappings in der Datei DIAS Attributes - Values 2017.xlsx folgendes herauszufinden:\n",
    "\n",
    "Pro Spalte: Welcher Zahlenwert repräsentiert einen \"unknown\"-Value in dieser Spalte.\n",
    "\n",
    "Theoretisches Vorgehen:\n",
    "\n",
    "Iteration durch die Spalte E\n",
    "    Wenn String in Spalte E (row X) entweder \"unknown\" oder \"no\" [...] \"known\"\n",
    "        Dann: füge Wert in D (row X) zu einer Liste hinzu\n",
    "\n",
    "Gebe am Ende alle Werte dieser Liste aus um zu sehen, welche Zahlenwerte mit unknown/no known gemappt werden."
   ]
  },
  {
   "cell_type": "code",
   "execution_count": 14,
   "metadata": {},
   "outputs": [
    {
     "name": "stdout",
     "output_type": "stream",
     "text": [
      "Zahlenwerte, die 'unknown' repräsentieren: [0, 10, -1, '-1', '-1, 0', '-1, 9']\n"
     ]
    }
   ],
   "source": [
    "#Diese Funktion findet im Meta-File DIAS Attributes - Values 2017.xlsx diejenigen Zahlenwerte, die für unknown / no transaction known stehen:\n",
    "\n",
    "def find_unknown_values(file_path):\n",
    "    \"\"\"\n",
    "    Find the numerical values that represent 'unknown' or 'no ... known' in the specified Excel file.\n",
    "    \n",
    "    INPUT:\n",
    "    file_path - (str) the path to the Excel file\n",
    "    \n",
    "    OUTPUT:\n",
    "    unknown_values - (list) a list of values that represent 'unknown' or 'no ... known' in the dataset\n",
    "    \"\"\"\n",
    "    # Load the Excel file\n",
    "    df = pd.read_excel(file_path, sheet_name=0)  # Adjust the sheet name if needed\n",
    "    \n",
    "    # Access the columns by their position (column E is at index 4, considering 0-based indexing)\n",
    "    attribute_meaning_col = df.iloc[:, 4]  # Column E\n",
    "    attribute_value_col = df.iloc[:, 3]    # Column D (index 3)\n",
    "\n",
    "    # Initialize an empty list to store 'unknown' values\n",
    "    unknown_values = []\n",
    "\n",
    "    # Iterate through the rows of the DataFrame\n",
    "    for index, meaning in attribute_meaning_col.items():\n",
    "        # Check if the description in column E contains 'unknown' or 'no ... known'\n",
    "        if isinstance(meaning, str):\n",
    "            meaning_lower = meaning.lower()\n",
    "            if 'unknown' in meaning_lower or re.search(r'no .* known', meaning_lower):\n",
    "                # Add the value from column D to the list\n",
    "                unknown_values.append(attribute_value_col.iloc[index])\n",
    "    \n",
    "    # Return unique 'unknown' values\n",
    "    return list(set(unknown_values))\n",
    "\n",
    "# Beispielnutzung\n",
    "file_path = 'DIAS Attributes - Values 2017.xlsx'  # Pfad zur Excel-Datei anpassen\n",
    "unknown_values = find_unknown_values(file_path)\n",
    "print(\"Values which represent 'unknown' in DIAS Attributes - Values 2017:\", unknown_values)\n",
    "\n"
   ]
  },
  {
   "cell_type": "markdown",
   "metadata": {},
   "source": [
    "Gegencheck/Crosscheck:\n",
    "\n",
    "Folgende Werte reptäsentieren laut find_unknown_values() die unknown-Werte jeder Spalte:\n",
    "[0, 10, -1, '-1', '-1, 0', '-1, 9']\n",
    "\n",
    "Um Sicher zu gehen, prüfen wir jetzt die Spalte D nach den Werten [0, 10, -1, '-1', '-1, 0', '-1, 9'] und schauen, ob in der Spalte E Text steht, der auf einen unknown-Wert hindeutet und somit später durch NaN ersetzt werden muss.\n",
    "\n",
    "Damit schließen wir aus, dass wir in bestimmten Spalten die Values [0, 10, -1, '-1', '-1, 0', '-1, 9'] als NaN setzen, obwohl diese eine andere Bedeutung haben."
   ]
  },
  {
   "cell_type": "markdown",
   "metadata": {},
   "source": [
    "Prozessuales Vorgehen:\n",
    "\n",
    "Wir iterieren durch die Spalte D und prüfen jeweils pro Row auf die Werte [0, 10, -1, '-1', '-1, 0', '-1, 9'].\n",
    "\n",
    "Wir lassen uns Pro Wert die unique values aus E dazu speichern.\n",
    "\n",
    "Danach definieren wir Kombinationen aus Value + Text die dazu führen, dass wir einen Wert als 'unknown' einstufen.\n",
    "\n",
    "Wenn wir eine Kombination aus Value + Text gefunden haben, die unknown/nan entspricht, ermitteln wir dazu das Enstprechende Attribut.\n",
    "\n",
    "Dann speichern wir das Attribut als Zeile in eine Matrix.\n",
    "\n",
    "Dann setzen wir eine 1 in der jeweiligen Attributszeile, wo der Value = dem Value in der Spalte entspricht.\n",
    "\n",
    "Dann Strippen wir die Strings in der Matrix in einzelne Integers.\n",
    "\n",
    "Also: Wenn Wert in D = -1 und Text in E dazu = 'unknown' Dann ermittle das zugehörige Attribut/Spalte im Dataset.\n",
    "\n",
    "Wenn bei Attribut \"Ager_TYP\" im Spale -1 eine 1 steht, ist bei diesem Attribut der Wert -1 als NaN zu konvertieren.\n",
    "\n"
   ]
  },
  {
   "cell_type": "code",
   "execution_count": 22,
   "metadata": {},
   "outputs": [
    {
     "name": "stdout",
     "output_type": "stream",
     "text": [
      "Values in column D and their unique texts from column E:\n",
      "Value: 0\n",
      "Unique texts from column E: {'no 3-5 family homes', 'external supplied hedonists ', 'no Online-transactions within the last 12 months', 'no small office/home office', 'classification not possible', 'none', 'no company in the building', 'unknown', 'no classification possible', 'no 1-2 family homes', 'unknown / no main age detectable', 'no >10 family homes', 'no transaction known', 'no transactions known', 'no score calculated', \"doesn't belong to the green avantgarde\", 'no 6-10 family homes'}\n",
      "Value: 10\n",
      "Unique texts from column E: {'two-generational household', '01.01.1940 bis 31.12.1944', 'wealthy single homeowners', 'Connoisseurs', '100% Online-transactions within the last 12 months', nan, 'top earners ', 'no transactions known', '80ies - Generation Golf (Mainstream, W)', 'low-income- and average earners of higher age from mulitperson households'}\n",
      "Value: -1\n",
      "Unique texts from column E: {'unknown'}\n",
      "Value: -1\n",
      "Unique texts from column E: {'unknown'}\n",
      "Value: -1, 0\n",
      "Unique texts from column E: {'unknown'}\n",
      "Value: -1, 9\n",
      "Unique texts from column E: {'unknown'}\n"
     ]
    }
   ],
   "source": [
    "\n",
    "def find_values_in_column_d(file_path, check_values):\n",
    "    \"\"\"\n",
    "    Iterate through column D and check for specific values. Store unique texts from column E for each found value.\n",
    "    \n",
    "    INPUT:\n",
    "    file_path - (str) the path to the Excel file\n",
    "    check_values - (list) a list of values to check in column D\n",
    "    \n",
    "    OUTPUT:\n",
    "    value_text_map - (dict) a dictionary where keys are the values found in column D and values are sets of unique\n",
    "                     texts from column E associated with those values\n",
    "    \"\"\"\n",
    "    # Load the Excel file\n",
    "    df = pd.read_excel(file_path, sheet_name=0)  # Adjust the sheet name if needed\n",
    "    \n",
    "    # Access columns D and E\n",
    "    attribute_value_col = df.iloc[:, 3]  # Column D\n",
    "    attribute_meaning_col = df.iloc[:, 4]  # Column E\n",
    "    \n",
    "    # Initialize a dictionary to store found values and their associated unique texts from column E\n",
    "    value_text_map = {value: set() for value in check_values}\n",
    "\n",
    "    # Iterate through the rows of the DataFrame\n",
    "    for value, meaning in zip(attribute_value_col, attribute_meaning_col):\n",
    "        if value in check_values:\n",
    "            # Store the unique text from column E associated with the value in column D\n",
    "            value_text_map[value].add(meaning)\n",
    "    \n",
    "    return value_text_map\n",
    "\n",
    "# Example usage\n",
    "file_path = 'DIAS Attributes - Values 2017.xlsx'  # Path to the Excel file\n",
    "check_values = [0, 10, -1, '-1', '-1, 0', '-1, 9']\n",
    "value_text_map = find_values_in_column_d(file_path, check_values)\n",
    "\n",
    "if value_text_map:\n",
    "    print(\"Values in column D and their unique texts from column E:\")\n",
    "    for val, texts in value_text_map.items():\n",
    "        print(f\"Value: {val}\")\n",
    "        print(f\"Unique texts from column E: {texts}\")\n",
    "else:\n",
    "    print(\"No matches found.\")\n",
    "\n"
   ]
  },
  {
   "cell_type": "markdown",
   "metadata": {},
   "source": [
    "***Mapping Value & Text = NaN***\n",
    "\n",
    "Wenn Value = 0 und\n",
    "Text = ('classification not possible', 'none', 'unknown', 'no classification possible', 'unknown / no main age detectable', 'no transaction known', 'no transactions known', 'no score calculated')\n",
    "Dann: Füge das Attrubut in Spalte B zur Matrix hinzu und setze 1 in der Spalte mit Wert 0\n",
    "\n",
    "Wenn Value = 10 und\n",
    "Text = (nan, 'no transactions known')\n",
    "Dann: Füge das Attrubut in Spalte B zur Matrix hinzu und setze 1 in der Spalte mit Wert 10\n",
    "\n",
    "Wenn Value = '-1' oder -1 und\n",
    "Text = ('unknown')\n",
    "Dann: Füge das Attribut in Spalte B zur Matrix hinzu und setze 1 in der Spalte mit Wert -1 \n",
    "\n",
    "Wenn Value = '-1, 0' und\n",
    "Text = ('unknown')\n",
    "Dann: Füge das Attribut in Spalte B zur Matrix hinzu und setze 1 in der Spalte mit Wert -1 und 0\n",
    "\n",
    "Wenn Value = '-1, 9' und\n",
    "Text = ('unknown')\n",
    "Dann: Füge das Attribut in Spalte B zur Matrix hinzu und setze 1 in der Spalte mit Wert -1 und 9"
   ]
  },
  {
   "cell_type": "markdown",
   "metadata": {},
   "source": [
    "Zuerst erstellen wir eine leere Matrix mit den Features [-1, 0, 9, 10]"
   ]
  },
  {
   "cell_type": "code",
   "execution_count": 52,
   "metadata": {},
   "outputs": [
    {
     "name": "stdout",
     "output_type": "stream",
     "text": [
      "string\n"
     ]
    }
   ],
   "source": [
    "# Create a list of attribute names and ensure they are strings\n",
    "attribute_names = [str(attr) for attr in azdias.columns.tolist()]\n",
    "\n",
    "# Create an empty DataFrame matrix with attributes as rows and features as columns\n",
    "nan_mapping_matrix = pd.DataFrame(index=attribute_names, columns=features)\n",
    "\n",
    "# Initialize the matrix with NaN values (default empty state)\n",
    "nan_mapping_matrix[:] = pd.NA\n",
    "\n",
    "# **Normalize the index of nan_mapping_matrix** and convert to strings\n",
    "#nan_mapping_matrix.index = nan_mapping_matrix.index.astype(str).str.strip().str.upper()\n",
    "\n",
    "nan_mapping_matrix.index = nan_mapping_matrix.index.astype('string')\n",
    "\n",
    "# Print the data type of the index to verify it's now a string type\n",
    "print(nan_mapping_matrix.index.dtype)\n"
   ]
  },
  {
   "cell_type": "markdown",
   "metadata": {},
   "source": [
    "### Vorgehensweise zur Erstellung der `nan_mapping_matrix`\n",
    "\n",
    "1. **Datei einlesen**\n",
    "   - Lese die Datei *DIAS Attributes - Values 2017.xlsx* in einen DataFrame ein, um die relevanten Daten in den Spalten D (Attribut-Werte), E (Bedeutung) und B (Attribut-Namen) zu analysieren.\n",
    "\n",
    "2. **Überprüfung der Spalte D auf den Wert 0**\n",
    "   - Iteriere durch alle Zeilen des DataFrames und prüfe, ob der Wert in Spalte D `0` ist.\n",
    "   - Falls der Wert `0` ist, prüfe den zugehörigen Text in Spalte E.\n",
    "\n",
    "3. **Bedingung für den Text in Spalte E**\n",
    "   - Falls der Text in Spalte E einer der folgenden Werte ist:\n",
    "     - 'classification not possible'\n",
    "     - 'none'\n",
    "     - 'unknown'\n",
    "     - 'no classification possible'\n",
    "     - 'unknown / no main age detectable'\n",
    "     - 'no transaction known'\n",
    "     - 'no transactions known'\n",
    "     - 'no score calculated'\n",
    "   - Gehe zur Überprüfung von Spalte B (Attribut-Name) über.\n",
    "\n",
    "4. **Überprüfung der Spalte B und Eintrag in die `nan_mapping_matrix`**\n",
    "   - **Wenn ein Wert in Spalte B vorhanden ist**:\n",
    "     - Suche diesen Wert in den Zeilen der `nan_mapping_matrix`.\n",
    "     - Falls der Wert gefunden wird, trage in der Spalte `0` der `nan_mapping_matrix` den Wert `1` ein.\n",
    "     - Falls der Wert nicht gefunden wird, gib eine Warnung aus: *\"Spalte [Attribut] in Mapping-Matrix nicht gefunden.\"*\n",
    "   - **Wenn kein Wert in Spalte B vorhanden ist (Spalte B leer)**:\n",
    "     - Gehe in Spalte D so viele Zeilen nach oben, bis ein Wert in Spalte B gefunden wird.\n",
    "     - Prüfe den gefundenen Wert:\n",
    "       - Falls der Wert in der `nan_mapping_matrix` vorhanden ist, trage in der Spalte `0` den Wert `1` ein.\n",
    "       - Falls der Wert nicht vorhanden ist, gib eine Warnung aus: *\"Spalte [Attribut] in Mapping-Matrix nicht gefunden.\"*\n",
    "\n",
    "5. **Wiederholung für weitere Szenarien**\n",
    "   - **Für den Wert `0`**:\n",
    "     - Wenn der Text in Spalte E einer der oben genannten Texte ist, füge das Attribut aus Spalte B zur Matrix hinzu und setze in der Spalte `0` den Wert `1`.\n",
    "   - **Für den Wert `10`**:\n",
    "     - Wenn der Text in Spalte E `NaN` oder 'no transactions known' ist, füge das Attribut zur Matrix hinzu und setze in der Spalte `10` den Wert `1`.\n",
    "   - **Für den Wert `-1` oder `'-1'`**:\n",
    "     - Wenn der Text in Spalte E 'unknown' ist, füge das Attribut zur Matrix hinzu und setze in der Spalte `-1` den Wert `1`.\n",
    "   - **Für den Wert `'-1, 0'`**:\n",
    "     - Wenn der Text in Spalte E 'unknown' ist, füge das Attribut zur Matrix hinzu und setze in den Spalten `-1` und `0` den Wert `1`.\n",
    "   - **Für den Wert `'-1, 9'`**:\n",
    "     - Wenn der Text in Spalte E 'unknown' ist, füge das Attribut zur Matrix hinzu und setze in den Spalten `-1` und `9` den Wert `1`.\n",
    "\n",
    "### Ziel\n",
    "Dieser Prozess hilft dabei, alle Zahlenwerte in den Attributen zu identifizieren, die in der `nan_mapping_matrix` als `NaN` interpretiert werden sollten, basierend auf den spezifischen Bedingungen und Textbeschreibungen in der Excel-Datei.\n"
   ]
  },
  {
   "cell_type": "code",
   "execution_count": 59,
   "metadata": {},
   "outputs": [
    {
     "name": "stdout",
     "output_type": "stream",
     "text": [
      "                        0    10    -1 -1, 0 -1, 9\n",
      "LNR                  <NA>  <NA>  <NA>  <NA>  <NA>\n",
      "AGER_TYP             <NA>  <NA>     1  <NA>  <NA>\n",
      "AKT_DAT_KL           <NA>  <NA>  <NA>  <NA>  <NA>\n",
      "ALTER_HH                1  <NA>  <NA>  <NA>  <NA>\n",
      "ALTER_KIND1          <NA>  <NA>  <NA>  <NA>  <NA>\n",
      "...                   ...   ...   ...   ...   ...\n",
      "GEOSCORE_KLS7         NaN   NaN   NaN     1   NaN\n",
      "HAUSHALTSSTRUKTUR     NaN   NaN   NaN     1   NaN\n",
      "KBA13_CCM_1400_2500   NaN   NaN     1   NaN   NaN\n",
      "SOHO_FLAG             NaN   NaN     1   NaN   NaN\n",
      "WACHSTUMSGEBIET_NB    NaN   NaN   NaN     1   NaN\n",
      "\n",
      "[409 rows x 5 columns]\n"
     ]
    }
   ],
   "source": [
    "import pandas as pd\n",
    "\n",
    "# Load the Excel file into a DataFrame\n",
    "file_path = 'DIAS Attributes - Values 2017.xlsx'\n",
    "df = pd.read_excel(file_path, sheet_name=0)  # Adjust the sheet name if necessary\n",
    "\n",
    "# Text conditions for marking values as NaN\n",
    "text_conditions_zero = [\n",
    "    'classification not possible', 'none', 'unknown',\n",
    "    'no classification possible', 'unknown / no main age detectable',\n",
    "    'no transaction known', 'no transactions known', 'no score calculated'\n",
    "]\n",
    "\n",
    "text_conditions_ten = ['no transactions known']\n",
    "text_conditions_negative_one = ['unknown']\n",
    "text_conditions_negative_one_zero = ['unknown']\n",
    "text_conditions_negative_one_nine = ['unknown']\n",
    "\n",
    "# Iterate over each row in the DataFrame\n",
    "for idx, row in df.iterrows():\n",
    "    # Extract values based on column indices (assume D is index 3, E is index 4, B is index 1)\n",
    "    value_d = row.iloc[3]  # Column D\n",
    "    text_e = row.iloc[4]  # Column E\n",
    "    attribute_b = str(row.iloc[1]).strip().upper()  # Column B, converted to uppercase string\n",
    "    \n",
    "    # Check if value in column D is 0 and text in column E matches the conditions\n",
    "    if value_d == 0:\n",
    "        if pd.isna(text_e) or text_e in text_conditions_zero:\n",
    "            if pd.notna(attribute_b):\n",
    "                # Add the attribute to the matrix if not present\n",
    "                if attribute_b not in nan_mapping_matrix.index:\n",
    "                    nan_mapping_matrix.loc[attribute_b] = pd.NA\n",
    "                nan_mapping_matrix.at[attribute_b, 0] = 1\n",
    "\n",
    "    # Repeat similar checks for value 10\n",
    "    elif value_d == 10:\n",
    "        if pd.isna(text_e) or text_e in text_conditions_ten:\n",
    "            if pd.notna(attribute_b):\n",
    "                if attribute_b not in nan_mapping_matrix.index:\n",
    "                    nan_mapping_matrix.loc[attribute_b] = pd.NA\n",
    "                nan_mapping_matrix.at[attribute_b, 10] = 1\n",
    "\n",
    "    # Check for value -1\n",
    "    elif (value_d == '-1' or value_d == -1):\n",
    "        if pd.isna(text_e) or text_e in text_conditions_negative_one:\n",
    "            if pd.notna(attribute_b):\n",
    "                if attribute_b not in nan_mapping_matrix.index:\n",
    "                    nan_mapping_matrix.loc[attribute_b] = pd.NA\n",
    "                nan_mapping_matrix.at[attribute_b, -1] = 1\n",
    "\n",
    "    # Check for value '-1, 0'\n",
    "    elif value_d == '-1, 0':\n",
    "        if pd.isna(text_e) or text_e in text_conditions_negative_one_zero:\n",
    "            if pd.notna(attribute_b):\n",
    "                if attribute_b not in nan_mapping_matrix.index:\n",
    "                    nan_mapping_matrix.loc[attribute_b] = pd.NA\n",
    "                nan_mapping_matrix.at[attribute_b, '-1, 0'] = 1\n",
    "\n",
    "    # Check for value '-1, 9'\n",
    "    elif value_d == '-1, 9':\n",
    "        if pd.isna(text_e) or text_e in text_conditions_negative_one_nine:\n",
    "            if pd.notna(attribute_b):\n",
    "                if attribute_b not in nan_mapping_matrix.index:\n",
    "                    nan_mapping_matrix.loc[attribute_b] = pd.NA\n",
    "                nan_mapping_matrix.at[attribute_b, '-1, 9'] = 1\n",
    "\n",
    "# Display the resulting matrix\n",
    "print(nan_mapping_matrix)\n"
   ]
  },
  {
   "cell_type": "markdown",
   "metadata": {},
   "source": [
    "Jetzt haben wir eine Matrix mit allen Attributen als Index (String) und die Werte für die NaN-Codieung in den Spalten.\n",
    "\n",
    "Als nächstes müssen wir die die Spalten '-1, 0' und '-1, 9' in einzelne Spalten der Matrix nan_mapping_matrix aufteilen.\n",
    "\n",
    "Wenn in Spalte '-1, 0' eine 1 steht, muss danach in den Spalten 0 und -1 eine 1 eingesetzt werden.\n",
    "Am Ende muss die Spalte '-1, 0' aus dem Dataframe entfernt werden.\n",
    "\n",
    "Danach wir die Spalte '-1, 9' aufgeteilt. Es wird die Spalte 9 hinzugefügt\n",
    "Wenn in der Spalte '-1, 9' eine 1 steht, wird in den Spalten -1 und 9 jeweils eine 1 eingefügt, ansonsten ein NaN."
   ]
  },
  {
   "cell_type": "code",
   "execution_count": 61,
   "metadata": {},
   "outputs": [
    {
     "name": "stdout",
     "output_type": "stream",
     "text": [
      "                        0    10    -1     9\n",
      "LNR                  <NA>  <NA>  <NA>  <NA>\n",
      "AGER_TYP             <NA>  <NA>     1  <NA>\n",
      "AKT_DAT_KL           <NA>  <NA>  <NA>  <NA>\n",
      "ALTER_HH                1  <NA>  <NA>  <NA>\n",
      "ALTER_KIND1          <NA>  <NA>  <NA>  <NA>\n",
      "...                   ...   ...   ...   ...\n",
      "GEOSCORE_KLS7           1   NaN     1  <NA>\n",
      "HAUSHALTSSTRUKTUR       1   NaN     1  <NA>\n",
      "KBA13_CCM_1400_2500   NaN   NaN     1  <NA>\n",
      "SOHO_FLAG             NaN   NaN     1  <NA>\n",
      "WACHSTUMSGEBIET_NB      1   NaN     1  <NA>\n",
      "\n",
      "[409 rows x 4 columns]\n"
     ]
    }
   ],
   "source": [
    "# Split the column '-1, 0' into columns -1 and 0\n",
    "if '-1, 0' in nan_mapping_matrix.columns:\n",
    "    # Create columns -1 and 0 if they do not exist\n",
    "    if -1 not in nan_mapping_matrix.columns:\n",
    "        nan_mapping_matrix[-1] = pd.NA\n",
    "    if 0 not in nan_mapping_matrix.columns:\n",
    "        nan_mapping_matrix[0] = pd.NA\n",
    "    \n",
    "    # Assign 1s based on the '-1, 0' column\n",
    "    nan_mapping_matrix.loc[nan_mapping_matrix['-1, 0'] == 1, -1] = 1\n",
    "    nan_mapping_matrix.loc[nan_mapping_matrix['-1, 0'] == 1, 0] = 1\n",
    "    \n",
    "    # Drop the '-1, 0' column\n",
    "    nan_mapping_matrix = nan_mapping_matrix.drop(columns='-1, 0')\n",
    "\n",
    "# Split the column '-1, 9' into columns -1 and 9\n",
    "if '-1, 9' in nan_mapping_matrix.columns:\n",
    "    # Create columns -1 and 9 if they do not exist\n",
    "    if -1 not in nan_mapping_matrix.columns:\n",
    "        nan_mapping_matrix[-1] = pd.NA\n",
    "    if 9 not in nan_mapping_matrix.columns:\n",
    "        nan_mapping_matrix[9] = pd.NA\n",
    "    \n",
    "    # Assign 1s based on the '-1, 9' column\n",
    "    nan_mapping_matrix.loc[nan_mapping_matrix['-1, 9'] == 1, -1] = 1\n",
    "    nan_mapping_matrix.loc[nan_mapping_matrix['-1, 9'] == 1, 9] = 1\n",
    "    \n",
    "    # Drop the '-1, 9' column\n",
    "    nan_mapping_matrix = nan_mapping_matrix.drop(columns='-1, 9')\n",
    "\n",
    "# Display the updated matrix to verify the changes\n",
    "print(nan_mapping_matrix)"
   ]
  },
  {
   "cell_type": "markdown",
   "metadata": {},
   "source": [
    "Zum Abschluss bringen wir die Werte <NA> und NaN noch in ein einheitliches Format"
   ]
  },
  {
   "cell_type": "code",
   "execution_count": 62,
   "metadata": {},
   "outputs": [
    {
     "name": "stdout",
     "output_type": "stream",
     "text": [
      "                       0  10   -1   9\n",
      "LNR                  NaN NaN  NaN NaN\n",
      "AGER_TYP             NaN NaN  1.0 NaN\n",
      "AKT_DAT_KL           NaN NaN  NaN NaN\n",
      "ALTER_HH             1.0 NaN  NaN NaN\n",
      "ALTER_KIND1          NaN NaN  NaN NaN\n",
      "...                  ...  ..  ...  ..\n",
      "GEOSCORE_KLS7        1.0 NaN  1.0 NaN\n",
      "HAUSHALTSSTRUKTUR    1.0 NaN  1.0 NaN\n",
      "KBA13_CCM_1400_2500  NaN NaN  1.0 NaN\n",
      "SOHO_FLAG            NaN NaN  1.0 NaN\n",
      "WACHSTUMSGEBIET_NB   1.0 NaN  1.0 NaN\n",
      "\n",
      "[409 rows x 4 columns]\n"
     ]
    },
    {
     "name": "stderr",
     "output_type": "stream",
     "text": [
      "C:\\Users\\GSQOQWI\\AppData\\Local\\Temp\\1\\ipykernel_36100\\2413188429.py:2: FutureWarning: DataFrame.applymap has been deprecated. Use DataFrame.map instead.\n",
      "  nan_mapping_matrix = nan_mapping_matrix.applymap(lambda x: np.nan if pd.isna(x) else x)\n"
     ]
    }
   ],
   "source": [
    "\n",
    "# Replace all <NA> and NaN values with np.nan\n",
    "nan_mapping_matrix = nan_mapping_matrix.applymap(lambda x: np.nan if pd.isna(x) else x)\n",
    "\n",
    "# Display the updated matrix to verify the changes\n",
    "print(nan_mapping_matrix)\n"
   ]
  },
  {
   "cell_type": "code",
   "execution_count": 63,
   "metadata": {},
   "outputs": [
    {
     "name": "stdout",
     "output_type": "stream",
     "text": [
      "Unique values in column '0': [nan  1.]\n",
      "Unique values in column '10': [nan  1.]\n",
      "Unique values in column '-1': [nan  1.]\n",
      "Unique values in column '9': [nan  1.]\n"
     ]
    }
   ],
   "source": [
    "# Iterate through each column and print the unique values\n",
    "for column in nan_mapping_matrix.columns:\n",
    "    unique_values = nan_mapping_matrix[column].unique()\n",
    "    print(f\"Unique values in column '{column}': {unique_values}\")\n"
   ]
  },
  {
   "cell_type": "code",
   "execution_count": 64,
   "metadata": {},
   "outputs": [],
   "source": [
    "#save Final Matrix in new Variable\n",
    "\n",
    "nan_mapping_matrix_final = nan_mapping_matrix"
   ]
  },
  {
   "cell_type": "markdown",
   "metadata": {},
   "source": [
    "Jetzt schreiben wir eine Funktion, die einen Dataframe entgegennimmt und anhand der nan_mapping_matrix_final prüft, ob die Werte der jeweiligen Features mit NaN ersetzt werden können:"
   ]
  },
  {
   "cell_type": "code",
   "execution_count": 66,
   "metadata": {},
   "outputs": [],
   "source": [
    "def replace_with_nan(df, nan_mapping_matrix):\n",
    "    \"\"\"\n",
    "    Replace values in the DataFrame based on the nan_mapping_matrix.\n",
    "    \n",
    "    Parameters:\n",
    "    df (pd.DataFrame): The DataFrame to be processed.\n",
    "    nan_mapping_matrix (pd.DataFrame): The matrix indicating which values should be replaced with NaN.\n",
    "    \n",
    "    Returns:\n",
    "    pd.DataFrame: The DataFrame with replaced NaN values.\n",
    "    \"\"\"\n",
    "    # Iterate through each feature in the DataFrame\n",
    "    for column in df.columns:\n",
    "        # Check if the column exists in the nan_mapping_matrix\n",
    "        if column in nan_mapping_matrix.index:\n",
    "            # Get the mapping row for the column\n",
    "            mapping_row = nan_mapping_matrix.loc[column]\n",
    "            \n",
    "            # Iterate through each value in the mapping row\n",
    "            for value, should_replace in mapping_row.items():\n",
    "                # If the value should be replaced (marked as 1 in the matrix)\n",
    "                if should_replace == 1:\n",
    "                    # Replace the value in the DataFrame column with NaN\n",
    "                    df[column] = df[column].replace(value, np.nan)\n",
    "    \n",
    "    return df\n"
   ]
  },
  {
   "cell_type": "code",
   "execution_count": 67,
   "metadata": {},
   "outputs": [
    {
     "name": "stdout",
     "output_type": "stream",
     "text": [
      "      LNR  AGER_TYP  AKT_DAT_KL  ALTER_HH  ALTER_KIND1  ALTER_KIND2  \\\n",
      "0  910215       NaN         NaN       NaN          NaN          NaN   \n",
      "1  910220       NaN         9.0       NaN          NaN          NaN   \n",
      "2  910225       NaN         9.0      17.0          NaN          NaN   \n",
      "3  910226       2.0         1.0      13.0          NaN          NaN   \n",
      "4  910241       NaN         1.0      20.0          NaN          NaN   \n",
      "5  910244       3.0         1.0      10.0          NaN          NaN   \n",
      "6  910248       NaN         9.0       NaN          NaN          NaN   \n",
      "7  910261       NaN         1.0      14.0          NaN          NaN   \n",
      "8  645145       NaN         9.0      16.0          NaN          NaN   \n",
      "9  645153       NaN         5.0      17.0          NaN          NaN   \n",
      "\n",
      "   ALTER_KIND3  ALTER_KIND4  ALTERSKATEGORIE_FEIN  ANZ_HAUSHALTE_AKTIV  ...  \\\n",
      "0          NaN          NaN                   NaN                  NaN  ...   \n",
      "1          NaN          NaN                  21.0                 11.0  ...   \n",
      "2          NaN          NaN                  17.0                 10.0  ...   \n",
      "3          NaN          NaN                  13.0                  1.0  ...   \n",
      "4          NaN          NaN                  14.0                  3.0  ...   \n",
      "5          NaN          NaN                  10.0                  5.0  ...   \n",
      "6          NaN          NaN                   NaN                  4.0  ...   \n",
      "7          NaN          NaN                  14.0                  6.0  ...   \n",
      "8          NaN          NaN                  16.0                  2.0  ...   \n",
      "9          NaN          NaN                  17.0                  9.0  ...   \n",
      "\n",
      "   VHN  VK_DHT4A  VK_DISTANZ  VK_ZG11  W_KEIT_KIND_HH  WOHNDAUER_2008  \\\n",
      "0  NaN       NaN         NaN      NaN             NaN             NaN   \n",
      "1  4.0       8.0        11.0     10.0             3.0             9.0   \n",
      "2  2.0       9.0         9.0      6.0             3.0             9.0   \n",
      "3  0.0       7.0        10.0     11.0             NaN             9.0   \n",
      "4  2.0       3.0         5.0      4.0             2.0             9.0   \n",
      "5  2.0      10.0         7.0      4.0             6.0             9.0   \n",
      "6  2.0       7.0        10.0     10.0             3.0             9.0   \n",
      "7  2.0      10.0        12.0      9.0             5.0             9.0   \n",
      "8  4.0       8.0        11.0      8.0             5.0             8.0   \n",
      "9  4.0       1.0         1.0      1.0             4.0             3.0   \n",
      "\n",
      "   WOHNLAGE ZABEOTYP ANREDE_KZ ALTERSKATEGORIE_GROB  \n",
      "0       NaN        3         1                    2  \n",
      "1       4.0        5         2                    1  \n",
      "2       2.0        5         2                    3  \n",
      "3       7.0        3         2                    4  \n",
      "4       3.0        4         1                    3  \n",
      "5       7.0        4         2                    1  \n",
      "6       5.0        4         2                    2  \n",
      "7       1.0        1         1                    1  \n",
      "8       1.0        6         1                    3  \n",
      "9       7.0        4         2                    3  \n",
      "\n",
      "[10 rows x 366 columns]\n"
     ]
    }
   ],
   "source": [
    "\n",
    "# Beispielaufruf der Funktion für azdias\n",
    "azdias_nan_mapping = replace_with_nan(azdias, nan_mapping_matrix_final)\n",
    "\n",
    "print(azdias_nan_mapping.head(10))"
   ]
  },
  {
   "cell_type": "code",
   "execution_count": 70,
   "metadata": {},
   "outputs": [
    {
     "name": "stdout",
     "output_type": "stream",
     "text": [
      "      LNR  AGER_TYP  AKT_DAT_KL  ALTER_HH  ALTER_KIND1  ALTER_KIND2  \\\n",
      "0    9626         2         1.0      10.0          NaN          NaN   \n",
      "1    9628        -1         9.0      11.0          NaN          NaN   \n",
      "2  143872        -1         1.0       6.0          NaN          NaN   \n",
      "3  143873         1         1.0       8.0          NaN          NaN   \n",
      "4  143874        -1         1.0      20.0          NaN          NaN   \n",
      "5  143888         1         1.0      11.0          NaN          NaN   \n",
      "6  143904         2         1.0      10.0          NaN          NaN   \n",
      "7  143910         1         1.0      10.0          NaN          NaN   \n",
      "8  102160         2         3.0       5.0          NaN          NaN   \n",
      "9  102173         1         1.0      20.0          NaN          NaN   \n",
      "\n",
      "   ALTER_KIND3  ALTER_KIND4  ALTERSKATEGORIE_FEIN  ANZ_HAUSHALTE_AKTIV  ...  \\\n",
      "0          NaN          NaN                  10.0                  1.0  ...   \n",
      "1          NaN          NaN                   NaN                  NaN  ...   \n",
      "2          NaN          NaN                   0.0                  1.0  ...   \n",
      "3          NaN          NaN                   8.0                  0.0  ...   \n",
      "4          NaN          NaN                  14.0                  7.0  ...   \n",
      "5          NaN          NaN                  10.0                  1.0  ...   \n",
      "6          NaN          NaN                  10.0                  1.0  ...   \n",
      "7          NaN          NaN                   9.0                  1.0  ...   \n",
      "8          NaN          NaN                   4.0                 74.0  ...   \n",
      "9          NaN          NaN                  13.0                  1.0  ...   \n",
      "\n",
      "   VK_ZG11  W_KEIT_KIND_HH  WOHNDAUER_2008  WOHNLAGE  ZABEOTYP  \\\n",
      "0      2.0             6.0             9.0       7.0         3   \n",
      "1      3.0             0.0             9.0       NaN         3   \n",
      "2     11.0             6.0             9.0       2.0         3   \n",
      "3      2.0             NaN             9.0       7.0         1   \n",
      "4      4.0             2.0             9.0       3.0         1   \n",
      "5      1.0             6.0             9.0       1.0         2   \n",
      "6      2.0             6.0             9.0       7.0         1   \n",
      "7      1.0             6.0             9.0       3.0         3   \n",
      "8      9.0             6.0             3.0       4.0         3   \n",
      "9      4.0             2.0             9.0       5.0         1   \n",
      "\n",
      "       PRODUCT_GROUP  CUSTOMER_GROUP ONLINE_PURCHASE ANREDE_KZ  \\\n",
      "0  COSMETIC_AND_FOOD     MULTI_BUYER               0         1   \n",
      "1               FOOD    SINGLE_BUYER               0         1   \n",
      "2  COSMETIC_AND_FOOD     MULTI_BUYER               0         2   \n",
      "3           COSMETIC     MULTI_BUYER               0         1   \n",
      "4               FOOD     MULTI_BUYER               0         1   \n",
      "5  COSMETIC_AND_FOOD     MULTI_BUYER               0         1   \n",
      "6  COSMETIC_AND_FOOD     MULTI_BUYER               0         1   \n",
      "7               FOOD    SINGLE_BUYER               0         1   \n",
      "8           COSMETIC     MULTI_BUYER               0         2   \n",
      "9           COSMETIC     MULTI_BUYER               0         1   \n",
      "\n",
      "  ALTERSKATEGORIE_GROB  \n",
      "0                    4  \n",
      "1                    4  \n",
      "2                    4  \n",
      "3                    4  \n",
      "4                    3  \n",
      "5                    3  \n",
      "6                    4  \n",
      "7                    4  \n",
      "8                    4  \n",
      "9                    3  \n",
      "\n",
      "[10 rows x 369 columns]\n"
     ]
    }
   ],
   "source": [
    "print(customers.head(10))"
   ]
  },
  {
   "cell_type": "code",
   "execution_count": 71,
   "metadata": {},
   "outputs": [
    {
     "name": "stdout",
     "output_type": "stream",
     "text": [
      "      LNR  AGER_TYP  AKT_DAT_KL  ALTER_HH  ALTER_KIND1  ALTER_KIND2  \\\n",
      "0    9626       2.0         1.0      10.0          NaN          NaN   \n",
      "1    9628       NaN         9.0      11.0          NaN          NaN   \n",
      "2  143872       NaN         1.0       6.0          NaN          NaN   \n",
      "3  143873       1.0         1.0       8.0          NaN          NaN   \n",
      "4  143874       NaN         1.0      20.0          NaN          NaN   \n",
      "5  143888       1.0         1.0      11.0          NaN          NaN   \n",
      "6  143904       2.0         1.0      10.0          NaN          NaN   \n",
      "7  143910       1.0         1.0      10.0          NaN          NaN   \n",
      "8  102160       2.0         3.0       5.0          NaN          NaN   \n",
      "9  102173       1.0         1.0      20.0          NaN          NaN   \n",
      "\n",
      "   ALTER_KIND3  ALTER_KIND4  ALTERSKATEGORIE_FEIN  ANZ_HAUSHALTE_AKTIV  ...  \\\n",
      "0          NaN          NaN                  10.0                  1.0  ...   \n",
      "1          NaN          NaN                   NaN                  NaN  ...   \n",
      "2          NaN          NaN                   0.0                  1.0  ...   \n",
      "3          NaN          NaN                   8.0                  0.0  ...   \n",
      "4          NaN          NaN                  14.0                  7.0  ...   \n",
      "5          NaN          NaN                  10.0                  1.0  ...   \n",
      "6          NaN          NaN                  10.0                  1.0  ...   \n",
      "7          NaN          NaN                   9.0                  1.0  ...   \n",
      "8          NaN          NaN                   4.0                 74.0  ...   \n",
      "9          NaN          NaN                  13.0                  1.0  ...   \n",
      "\n",
      "   VK_ZG11  W_KEIT_KIND_HH  WOHNDAUER_2008  WOHNLAGE  ZABEOTYP  \\\n",
      "0      2.0             6.0             9.0       7.0         3   \n",
      "1      3.0             NaN             9.0       NaN         3   \n",
      "2     11.0             6.0             9.0       2.0         3   \n",
      "3      2.0             NaN             9.0       7.0         1   \n",
      "4      4.0             2.0             9.0       3.0         1   \n",
      "5      1.0             6.0             9.0       1.0         2   \n",
      "6      2.0             6.0             9.0       7.0         1   \n",
      "7      1.0             6.0             9.0       3.0         3   \n",
      "8      9.0             6.0             3.0       4.0         3   \n",
      "9      4.0             2.0             9.0       5.0         1   \n",
      "\n",
      "       PRODUCT_GROUP  CUSTOMER_GROUP ONLINE_PURCHASE ANREDE_KZ  \\\n",
      "0  COSMETIC_AND_FOOD     MULTI_BUYER               0         1   \n",
      "1               FOOD    SINGLE_BUYER               0         1   \n",
      "2  COSMETIC_AND_FOOD     MULTI_BUYER               0         2   \n",
      "3           COSMETIC     MULTI_BUYER               0         1   \n",
      "4               FOOD     MULTI_BUYER               0         1   \n",
      "5  COSMETIC_AND_FOOD     MULTI_BUYER               0         1   \n",
      "6  COSMETIC_AND_FOOD     MULTI_BUYER               0         1   \n",
      "7               FOOD    SINGLE_BUYER               0         1   \n",
      "8           COSMETIC     MULTI_BUYER               0         2   \n",
      "9           COSMETIC     MULTI_BUYER               0         1   \n",
      "\n",
      "  ALTERSKATEGORIE_GROB  \n",
      "0                    4  \n",
      "1                    4  \n",
      "2                    4  \n",
      "3                    4  \n",
      "4                    3  \n",
      "5                    3  \n",
      "6                    4  \n",
      "7                    4  \n",
      "8                    4  \n",
      "9                    3  \n",
      "\n",
      "[10 rows x 369 columns]\n"
     ]
    }
   ],
   "source": [
    "# Beispielaufruf der Funktion für azdias\n",
    "customers_nan_mapping = replace_with_nan(customers, nan_mapping_matrix_final)\n",
    "\n",
    "print(customers_nan_mapping.head(10))"
   ]
  },
  {
   "cell_type": "markdown",
   "metadata": {},
   "source": [
    "Wir haben jetzt folgende neue Komponenten:\n",
    "\n",
    "nan_mapping_matrix_final = Matrix die bei jedem Feature die nummerischen Werte anzeigt, die durch NaN ersetzt werden können  \n",
    "  \n",
    "azdias_nan_mapping = azdias mit NaN-Codierung  \n",
    "customers_nan_mapping = customers mit NaN-Codierung"
   ]
  },
  {
   "cell_type": "markdown",
   "metadata": {},
   "source": [
    "**Data Cleaning - Drop Duplicated Rows**\n",
    "\n",
    "Jetzt schreiben wir zuerst eine Funktion, die einen Dataframe entgegennimmt und die Duplicated Rows entfernt, sofern vorhanden:"
   ]
  },
  {
   "cell_type": "code",
   "execution_count": 80,
   "metadata": {},
   "outputs": [],
   "source": [
    "def dataframe_duplicate_dropper(df):\n",
    "    \"\"\"\n",
    "    Removes duplicate rows from a DataFrame and prints information about duplicates.\n",
    "    \n",
    "    Parameters:\n",
    "    df (pd.DataFrame): The input DataFrame to process.\n",
    "    \n",
    "    Returns:\n",
    "    pd.DataFrame: A DataFrame without duplicate rows, keeping the last occurrence.\n",
    "    \n",
    "    Prints:\n",
    "    - A summary of duplicate status for each row.\n",
    "    - The DataFrame after duplicates have been removed.\n",
    "    \"\"\"\n",
    "    \n",
    "    # Check and print which rows are duplicates\n",
    "    df_with_duplicates = df.duplicated()\n",
    "    print(f'Dataframe with Duplicates: {df_with_duplicates}')\n",
    "    \n",
    "    # Drop duplicate rows, keeping the last occurrence, and print the result\n",
    "    df_without_duplicates = df.drop_duplicates(keep='last')\n",
    "    print(f'Dataframe without Duplicates: {df_without_duplicates}')\n",
    "    \n",
    "    return df_without_duplicates"
   ]
  },
  {
   "cell_type": "code",
   "execution_count": 79,
   "metadata": {},
   "outputs": [
    {
     "name": "stdout",
     "output_type": "stream",
     "text": [
      "Dataframe with Duplicates: 0         False\n",
      "1         False\n",
      "2         False\n",
      "3         False\n",
      "4         False\n",
      "          ...  \n",
      "891216    False\n",
      "891217    False\n",
      "891218    False\n",
      "891219    False\n",
      "891220    False\n",
      "Length: 891221, dtype: bool\n",
      "Dataframe without Duplicates:            LNR  AGER_TYP  AKT_DAT_KL  ALTER_HH  ALTER_KIND1  ALTER_KIND2  \\\n",
      "0       910215       NaN         NaN       NaN          NaN          NaN   \n",
      "1       910220       NaN         9.0       NaN          NaN          NaN   \n",
      "2       910225       NaN         9.0      17.0          NaN          NaN   \n",
      "3       910226       2.0         1.0      13.0          NaN          NaN   \n",
      "4       910241       NaN         1.0      20.0          NaN          NaN   \n",
      "...        ...       ...         ...       ...          ...          ...   \n",
      "891216  825761       NaN         5.0      17.0          NaN          NaN   \n",
      "891217  825771       NaN         9.0      16.0          NaN          NaN   \n",
      "891218  825772       NaN         1.0      17.0          NaN          NaN   \n",
      "891219  825776       NaN         9.0       NaN         17.0          NaN   \n",
      "891220  825787       NaN         1.0       NaN          NaN          NaN   \n",
      "\n",
      "        ALTER_KIND3  ALTER_KIND4  ALTERSKATEGORIE_FEIN  ANZ_HAUSHALTE_AKTIV  \\\n",
      "0               NaN          NaN                   NaN                  NaN   \n",
      "1               NaN          NaN                  21.0                 11.0   \n",
      "2               NaN          NaN                  17.0                 10.0   \n",
      "3               NaN          NaN                  13.0                  1.0   \n",
      "4               NaN          NaN                  14.0                  3.0   \n",
      "...             ...          ...                   ...                  ...   \n",
      "891216          NaN          NaN                  17.0                 15.0   \n",
      "891217          NaN          NaN                  16.0                 11.0   \n",
      "891218          NaN          NaN                  17.0                  3.0   \n",
      "891219          NaN          NaN                  20.0                  7.0   \n",
      "891220          NaN          NaN                   NaN                 10.0   \n",
      "\n",
      "        ...  VHN  VK_DHT4A  VK_DISTANZ  VK_ZG11  W_KEIT_KIND_HH  \\\n",
      "0       ...  NaN       NaN         NaN      NaN             NaN   \n",
      "1       ...  4.0       8.0        11.0     10.0             3.0   \n",
      "2       ...  2.0       9.0         9.0      6.0             3.0   \n",
      "3       ...  0.0       7.0        10.0     11.0             NaN   \n",
      "4       ...  2.0       3.0         5.0      4.0             2.0   \n",
      "...     ...  ...       ...         ...      ...             ...   \n",
      "891216  ...  2.0       4.0         7.0      8.0             3.0   \n",
      "891217  ...  4.0       6.0         9.0      6.0             6.0   \n",
      "891218  ...  2.0       7.0        10.0      8.0             NaN   \n",
      "891219  ...  4.0       9.0         8.0      5.0             1.0   \n",
      "891220  ...  3.0       8.0        10.0      7.0             6.0   \n",
      "\n",
      "        WOHNDAUER_2008  WOHNLAGE ZABEOTYP ANREDE_KZ ALTERSKATEGORIE_GROB  \n",
      "0                  NaN       NaN        3         1                    2  \n",
      "1                  9.0       4.0        5         2                    1  \n",
      "2                  9.0       2.0        5         2                    3  \n",
      "3                  9.0       7.0        3         2                    4  \n",
      "4                  9.0       3.0        4         1                    3  \n",
      "...                ...       ...      ...       ...                  ...  \n",
      "891216             4.0       3.0        4         2                    3  \n",
      "891217             9.0       5.0        6         1                    2  \n",
      "891218             5.0       7.0        4         2                    2  \n",
      "891219             9.0       5.0        5         1                    1  \n",
      "891220             3.0       4.0        3         1                    4  \n",
      "\n",
      "[891221 rows x 366 columns]\n"
     ]
    }
   ],
   "source": [
    "#remove duplicated Rows from azdias_nan_mapping\n",
    "azdias_without_duplicates = dataframe_duplicate_dropper(azdias_nan_mapping)"
   ]
  },
  {
   "cell_type": "code",
   "execution_count": 81,
   "metadata": {},
   "outputs": [
    {
     "name": "stdout",
     "output_type": "stream",
     "text": [
      "Dataframe with Duplicates: 0         False\n",
      "1         False\n",
      "2         False\n",
      "3         False\n",
      "4         False\n",
      "          ...  \n",
      "191647    False\n",
      "191648    False\n",
      "191649    False\n",
      "191650    False\n",
      "191651    False\n",
      "Length: 191652, dtype: bool\n",
      "Dataframe without Duplicates:            LNR  AGER_TYP  AKT_DAT_KL  ALTER_HH  ALTER_KIND1  ALTER_KIND2  \\\n",
      "0         9626       2.0         1.0      10.0          NaN          NaN   \n",
      "1         9628       NaN         9.0      11.0          NaN          NaN   \n",
      "2       143872       NaN         1.0       6.0          NaN          NaN   \n",
      "3       143873       1.0         1.0       8.0          NaN          NaN   \n",
      "4       143874       NaN         1.0      20.0          NaN          NaN   \n",
      "...        ...       ...         ...       ...          ...          ...   \n",
      "191647  154561       1.0         1.0       9.0          NaN          NaN   \n",
      "191648  154563       NaN         2.0       NaN          NaN          NaN   \n",
      "191649  148813       2.0         1.0      15.0          NaN          NaN   \n",
      "191650  148852       3.0         1.0      13.0          NaN          NaN   \n",
      "191651  148883       3.0         1.0       NaN          NaN          NaN   \n",
      "\n",
      "        ALTER_KIND3  ALTER_KIND4  ALTERSKATEGORIE_FEIN  ANZ_HAUSHALTE_AKTIV  \\\n",
      "0               NaN          NaN                  10.0                  1.0   \n",
      "1               NaN          NaN                   NaN                  NaN   \n",
      "2               NaN          NaN                   0.0                  1.0   \n",
      "3               NaN          NaN                   8.0                  0.0   \n",
      "4               NaN          NaN                  14.0                  7.0   \n",
      "...             ...          ...                   ...                  ...   \n",
      "191647          NaN          NaN                   9.0                  1.0   \n",
      "191648          NaN          NaN                   0.0                  0.0   \n",
      "191649          NaN          NaN                  10.0                  1.0   \n",
      "191650          NaN          NaN                  13.0                  4.0   \n",
      "191651          NaN          NaN                   9.0                  1.0   \n",
      "\n",
      "        ...  VK_ZG11  W_KEIT_KIND_HH  WOHNDAUER_2008  WOHNLAGE  ZABEOTYP  \\\n",
      "0       ...      2.0             6.0             9.0       7.0         3   \n",
      "1       ...      3.0             NaN             9.0       NaN         3   \n",
      "2       ...     11.0             6.0             9.0       2.0         3   \n",
      "3       ...      2.0             NaN             9.0       7.0         1   \n",
      "4       ...      4.0             2.0             9.0       3.0         1   \n",
      "...     ...      ...             ...             ...       ...       ...   \n",
      "191647  ...      5.0             6.0             9.0       1.0         3   \n",
      "191648  ...      4.0             NaN             9.0       3.0         3   \n",
      "191649  ...      5.0             3.0             9.0       3.0         3   \n",
      "191650  ...      1.0             4.0             9.0       2.0         3   \n",
      "191651  ...      1.0             3.0             9.0       7.0         1   \n",
      "\n",
      "            PRODUCT_GROUP  CUSTOMER_GROUP ONLINE_PURCHASE ANREDE_KZ  \\\n",
      "0       COSMETIC_AND_FOOD     MULTI_BUYER               0         1   \n",
      "1                    FOOD    SINGLE_BUYER               0         1   \n",
      "2       COSMETIC_AND_FOOD     MULTI_BUYER               0         2   \n",
      "3                COSMETIC     MULTI_BUYER               0         1   \n",
      "4                    FOOD     MULTI_BUYER               0         1   \n",
      "...                   ...             ...             ...       ...   \n",
      "191647  COSMETIC_AND_FOOD     MULTI_BUYER               0         1   \n",
      "191648           COSMETIC    SINGLE_BUYER               0         2   \n",
      "191649  COSMETIC_AND_FOOD     MULTI_BUYER               0         1   \n",
      "191650               FOOD    SINGLE_BUYER               0         2   \n",
      "191651  COSMETIC_AND_FOOD     MULTI_BUYER               0         1   \n",
      "\n",
      "       ALTERSKATEGORIE_GROB  \n",
      "0                         4  \n",
      "1                         4  \n",
      "2                         4  \n",
      "3                         4  \n",
      "4                         3  \n",
      "...                     ...  \n",
      "191647                    3  \n",
      "191648                    4  \n",
      "191649                    4  \n",
      "191650                    3  \n",
      "191651                    2  \n",
      "\n",
      "[191652 rows x 369 columns]\n"
     ]
    }
   ],
   "source": [
    "#remove duplicated Rows from customers_nan_mapping\n",
    "customers_without_duplicates = dataframe_duplicate_dropper(customers_nan_mapping)"
   ]
  },
  {
   "cell_type": "code",
   "execution_count": 88,
   "metadata": {},
   "outputs": [
    {
     "data": {
      "image/png": "[encoded data removed]",
      "text/plain": [
       "<Figure size 1000x600 with 1 Axes>"
      ]
     },
     "metadata": {},
     "output_type": "display_data"
    },
    {
     "data": {
      "image/png": "[encoded data removed]",
      "text/plain": [
       "<Figure size 1000x600 with 1 Axes>"
      ]
     },
     "metadata": {},
     "output_type": "display_data"
    }
   ],
   "source": [
    "\n",
    "# Calculate the percentage of NaN values per column for azdias_without_duplicates\n",
    "azdias_nan_percent = azdias_without_duplicates.isna().mean() * 100\n",
    "\n",
    "# Calculate the percentage of NaN values per column for customers_without_duplicates\n",
    "customers_nan_percent = customers_without_duplicates.isna().mean() * 100\n",
    "\n",
    "# Plot the top 25 columns with the highest NaN percentages for customers_without_duplicates\n",
    "top_25_customers_nan = customers_nan_percent.sort_values(ascending=False).head(25)\n",
    "plt.figure(figsize=(10, 6))\n",
    "top_25_customers_nan.plot(kind='bar', color='skyblue')\n",
    "plt.axhline(y=20, color='red', linestyle='--', label='20% Threshold')\n",
    "plt.title('Top 25 Columns with Highest NaN Percentage in Customers DataFrame')\n",
    "plt.ylabel('Percentage of NaN Values')\n",
    "plt.xlabel('Columns')\n",
    "plt.xticks(rotation=45)\n",
    "plt.legend()\n",
    "plt.tight_layout()\n",
    "plt.show()\n",
    "\n",
    "# Plot the top 25 columns with the highest NaN percentages for azdias_without_duplicates\n",
    "top_25_azdias_nan = azdias_nan_percent.sort_values(ascending=False).head(25)\n",
    "plt.figure(figsize=(10, 6))\n",
    "top_25_azdias_nan.plot(kind='bar', color='lightgreen')\n",
    "plt.axhline(y=20, color='red', linestyle='--', label='20% Threshold')\n",
    "plt.title('Top 25 Columns with Highest NaN Percentage in Azdias DataFrame')\n",
    "plt.ylabel('Percentage of NaN Values')\n",
    "plt.xlabel('Columns')\n",
    "plt.xticks(rotation=45)\n",
    "plt.legend()\n",
    "plt.tight_layout()\n",
    "plt.show()\n"
   ]
  },
  {
   "cell_type": "markdown",
   "metadata": {},
   "source": [
    "Für das Unsupervised Learning Modell wollen wir wissen, welche Spalten in den Datasets azdias_without_duplicates und customers_without_duplicates jeweils über 30% Missing Values haben  \n",
    " UND Welche dieser Spalten in allen beiden Datasets vorkommen.  \n",
    "  \n",
    "Dazu schreiben wir eine Funktion, die zwei Datasets entgegennimmt und dann die Spalten Printet, die in beiden Datasets vorkommen und dort jeweils über 30% Missing Values haben.\n"
   ]
  },
  {
   "cell_type": "code",
   "execution_count": 86,
   "metadata": {},
   "outputs": [],
   "source": [
    "def find_common_high_missing_columns(df1, df2, threshold=20):\n",
    "    \"\"\"\n",
    "    Finds and prints columns with more than the specified threshold of missing values in both dataframes.\n",
    "\n",
    "    Parameters:\n",
    "    df1 (pd.DataFrame): First DataFrame.\n",
    "    df2 (pd.DataFrame): Second DataFrame.\n",
    "    threshold (float): Percentage threshold for missing values (default is 30).\n",
    "\n",
    "    Returns:\n",
    "    None: Prints columns that meet the criteria.\n",
    "    \"\"\"\n",
    "    # Calculate the percentage of missing values for each column\n",
    "    missing_df1 = df1.isna().mean() * 100\n",
    "    missing_df2 = df2.isna().mean() * 100\n",
    "\n",
    "    # Find columns exceeding the missing value threshold\n",
    "    high_missing_df1 = set(missing_df1[missing_df1 > threshold].index)\n",
    "    high_missing_df2 = set(missing_df2[missing_df2 > threshold].index)\n",
    "\n",
    "    # Find common columns with high missing values\n",
    "    common_high_missing = high_missing_df1.intersection(high_missing_df2)\n",
    "\n",
    "    if common_high_missing:\n",
    "        print(f\"Columns with more than {threshold}% missing values in both datasets:\")\n",
    "        for col in common_high_missing:\n",
    "            print(f\"- {col}\")\n",
    "    else:\n",
    "        print(f\"No columns with more than {threshold}% missing values found in both datasets.\")\n"
   ]
  },
  {
   "cell_type": "code",
   "execution_count": 87,
   "metadata": {},
   "outputs": [
    {
     "name": "stdout",
     "output_type": "stream",
     "text": [
      "Columns with more than 20% missing values in both datasets:\n",
      "- D19_TELKO_ANZ_12\n",
      "- D19_LOTTO\n",
      "- ALTER_KIND2\n",
      "- D19_VERSI_ANZ_12\n",
      "- D19_SOZIALES\n",
      "- D19_BANKEN_ANZ_24\n",
      "- D19_KONSUMTYP\n",
      "- ALTER_KIND1\n",
      "- D19_GESAMT_ANZ_24\n",
      "- D19_BANKEN_ONLINE_QUOTE_12\n",
      "- D19_VERSAND_ANZ_12\n",
      "- ALTERSKATEGORIE_FEIN\n",
      "- TITEL_KZ\n",
      "- D19_VERSI_ONLINE_QUOTE_12\n",
      "- D19_LETZTER_KAUF_BRANCHE\n",
      "- D19_GESAMT_ANZ_12\n",
      "- ALTER_HH\n",
      "- ALTER_KIND4\n",
      "- D19_VERSI_ANZ_24\n",
      "- KK_KUNDENTYP\n",
      "- ALTER_KIND3\n",
      "- EXTSEL992\n",
      "- D19_TELKO_ONLINE_QUOTE_12\n",
      "- D19_VERSAND_ONLINE_QUOTE_12\n",
      "- D19_VERSAND_ANZ_24\n",
      "- D19_TELKO_ANZ_24\n",
      "- KBA05_BAUMAX\n",
      "- D19_BANKEN_ANZ_12\n",
      "- D19_GESAMT_ONLINE_QUOTE_12\n",
      "- AGER_TYP\n"
     ]
    }
   ],
   "source": [
    "# Example usage with DataFrames azdias_without_duplicates and customers_without_duplicates\n",
    "find_common_high_missing_columns(azdias_without_duplicates, customers_without_duplicates)"
   ]
  },
  {
   "cell_type": "markdown",
   "metadata": {},
   "source": [
    "Notiz:\n",
    "\n",
    "Next Steps: \n",
    "Spalten ü20% Droppen\n",
    "Andere NaNs durch Median ergänzen\n",
    "\n",
    "Multi Categorial Columns Mappen\n",
    "ggf. die zusätzliche Column in Customers droppen fürs Modell "
   ]
  },
  {
   "cell_type": "markdown",
   "metadata": {},
   "source": [
    "## Part 1: Customer Segmentation Report\n",
    "\n",
    "The main bulk of your analysis will come in this part of the project. Here, you should use unsupervised learning techniques to describe the relationship between the demographics of the company's existing customers and the general population of Germany. By the end of this part, you should be able to describe parts of the general population that are more likely to be part of the mail-order company's main customer base, and which parts of the general population are less so."
   ]
  },
  {
   "cell_type": "code",
   "execution_count": null,
   "metadata": {},
   "outputs": [],
   "source": []
  },
  {
   "cell_type": "markdown",
   "metadata": {},
   "source": [
    "## Part 2: Supervised Learning Model\n",
    "\n",
    "Now that you've found which parts of the population are more likely to be customers of the mail-order company, it's time to build a prediction model. Each of the rows in the \"MAILOUT\" data files represents an individual that was targeted for a mailout campaign. Ideally, we should be able to use the demographic information from each individual to decide whether or not it will be worth it to include that person in the campaign.\n",
    "\n",
    "The \"MAILOUT\" data has been split into two approximately equal parts, each with almost 43 000 data rows. In this part, you can verify your model with the \"TRAIN\" partition, which includes a column, \"RESPONSE\", that states whether or not a person became a customer of the company following the campaign. In the next part, you'll need to create predictions on the \"TEST\" partition, where the \"RESPONSE\" column has been withheld."
   ]
  },
  {
   "cell_type": "code",
   "execution_count": null,
   "metadata": {},
   "outputs": [],
   "source": [
    "mailout_train = pd.read_csv('data/Udacity_MAILOUT_052018_TRAIN.csv', sep=';')"
   ]
  },
  {
   "cell_type": "code",
   "execution_count": null,
   "metadata": {},
   "outputs": [],
   "source": [
    "mailout_test = pd.read_csv('data/Udacity_MAILOUT_052018_TEST.csv', sep=';')"
   ]
  }
 ],
 "metadata": {
  "kernelspec": {
   "display_name": "datascience1",
   "language": "python",
   "name": "python3"
  },
  "language_info": {
   "codemirror_mode": {
    "name": "ipython",
    "version": 3
   },
   "file_extension": ".py",
   "mimetype": "text/x-python",
   "name": "python",
   "nbconvert_exporter": "python",
   "pygments_lexer": "ipython3",
   "version": "3.12.7"
  }
 },
 "nbformat": 4,
 "nbformat_minor": 2
}
